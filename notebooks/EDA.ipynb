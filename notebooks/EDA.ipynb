{
 "cells": [
  {
   "cell_type": "code",
   "execution_count": 1,
   "id": "6d69b999",
   "metadata": {},
   "outputs": [
    {
     "ename": "AttributeError",
     "evalue": "module 'numpy' has no attribute 'byte'",
     "output_type": "error",
     "traceback": [
      "\u001b[31m---------------------------------------------------------------------------\u001b[39m",
      "\u001b[31mAttributeError\u001b[39m                            Traceback (most recent call last)",
      "\u001b[36mCell\u001b[39m\u001b[36m \u001b[39m\u001b[32mIn[1]\u001b[39m\u001b[32m, line 2\u001b[39m\n\u001b[32m      1\u001b[39m \u001b[38;5;28;01mimport\u001b[39;00m\u001b[38;5;250m \u001b[39m\u001b[34;01mpandas\u001b[39;00m\u001b[38;5;250m \u001b[39m\u001b[38;5;28;01mas\u001b[39;00m\u001b[38;5;250m \u001b[39m\u001b[34;01mpd\u001b[39;00m\n\u001b[32m----> \u001b[39m\u001b[32m2\u001b[39m \u001b[38;5;28;01mimport\u001b[39;00m\u001b[38;5;250m \u001b[39m\u001b[34;01mplotly\u001b[39;00m\u001b[34;01m.\u001b[39;00m\u001b[34;01mexpress\u001b[39;00m\u001b[38;5;250m \u001b[39m\u001b[38;5;28;01mas\u001b[39;00m\u001b[38;5;250m \u001b[39m\u001b[34;01mpx\u001b[39;00m\n\u001b[32m      4\u001b[39m car_data = pd.read_csv(\u001b[33m'\u001b[39m\u001b[33m../vehicles_us.csv\u001b[39m\u001b[33m'\u001b[39m) \u001b[38;5;66;03m# lendo os dados\u001b[39;00m\n\u001b[32m      5\u001b[39m fig = px.histogram(car_data, x=\u001b[33m\"\u001b[39m\u001b[33modometer\u001b[39m\u001b[33m\"\u001b[39m) \u001b[38;5;66;03m# criar um histograma\u001b[39;00m\n",
      "\u001b[36mFile \u001b[39m\u001b[32mc:\\Projetos TI\\Sprint 5\\vehicles_env\\Lib\\site-packages\\plotly\\express\\__init__.py:27\u001b[39m\n\u001b[32m     11\u001b[39m \u001b[38;5;28;01mif\u001b[39;00m np \u001b[38;5;129;01mis\u001b[39;00m \u001b[38;5;28;01mNone\u001b[39;00m:\n\u001b[32m     12\u001b[39m     \u001b[38;5;28;01mraise\u001b[39;00m \u001b[38;5;167;01mImportError\u001b[39;00m(\n\u001b[32m     13\u001b[39m \u001b[38;5;250m        \u001b[39m\u001b[33;03m\"\"\"\\\u001b[39;00m\n\u001b[32m     14\u001b[39m \u001b[33;03mPlotly Express requires numpy to be installed. You can install numpy using pip with:\u001b[39;00m\n\u001b[32m   (...)\u001b[39m\u001b[32m     24\u001b[39m \u001b[33;03m\"\"\"\u001b[39;00m\n\u001b[32m     25\u001b[39m     )\n\u001b[32m---> \u001b[39m\u001b[32m27\u001b[39m \u001b[38;5;28;01mfrom\u001b[39;00m\u001b[38;5;250m \u001b[39m\u001b[34;01m.\u001b[39;00m\u001b[34;01m_imshow\u001b[39;00m\u001b[38;5;250m \u001b[39m\u001b[38;5;28;01mimport\u001b[39;00m imshow\n\u001b[32m     28\u001b[39m \u001b[38;5;28;01mfrom\u001b[39;00m\u001b[38;5;250m \u001b[39m\u001b[34;01m.\u001b[39;00m\u001b[34;01m_chart_types\u001b[39;00m\u001b[38;5;250m \u001b[39m\u001b[38;5;28;01mimport\u001b[39;00m (  \u001b[38;5;66;03m# noqa: F401\u001b[39;00m\n\u001b[32m     29\u001b[39m     scatter,\n\u001b[32m     30\u001b[39m     scatter_3d,\n\u001b[32m   (...)\u001b[39m\u001b[32m     67\u001b[39m     density_mapbox,\n\u001b[32m     68\u001b[39m )\n\u001b[32m     71\u001b[39m \u001b[38;5;28;01mfrom\u001b[39;00m\u001b[38;5;250m \u001b[39m\u001b[34;01m.\u001b[39;00m\u001b[34;01m_core\u001b[39;00m\u001b[38;5;250m \u001b[39m\u001b[38;5;28;01mimport\u001b[39;00m (  \u001b[38;5;66;03m# noqa: F401\u001b[39;00m\n\u001b[32m     72\u001b[39m     set_mapbox_access_token,\n\u001b[32m     73\u001b[39m     defaults,\n\u001b[32m     74\u001b[39m     get_trendline_results,\n\u001b[32m     75\u001b[39m     NO_COLOR,\n\u001b[32m     76\u001b[39m )\n",
      "\u001b[36mFile \u001b[39m\u001b[32mc:\\Projetos TI\\Sprint 5\\vehicles_env\\Lib\\site-packages\\plotly\\express\\_imshow.py:4\u001b[39m\n\u001b[32m      2\u001b[39m \u001b[38;5;28;01mfrom\u001b[39;00m\u001b[38;5;250m \u001b[39m\u001b[34;01m_plotly_utils\u001b[39;00m\u001b[34;01m.\u001b[39;00m\u001b[34;01mbasevalidators\u001b[39;00m\u001b[38;5;250m \u001b[39m\u001b[38;5;28;01mimport\u001b[39;00m ColorscaleValidator\n\u001b[32m      3\u001b[39m \u001b[38;5;28;01mfrom\u001b[39;00m\u001b[38;5;250m \u001b[39m\u001b[34;01m.\u001b[39;00m\u001b[34;01m_core\u001b[39;00m\u001b[38;5;250m \u001b[39m\u001b[38;5;28;01mimport\u001b[39;00m apply_default_cascade, init_figure, configure_animation_controls\n\u001b[32m----> \u001b[39m\u001b[32m4\u001b[39m \u001b[38;5;28;01mfrom\u001b[39;00m\u001b[38;5;250m \u001b[39m\u001b[34;01m.\u001b[39;00m\u001b[34;01mimshow_utils\u001b[39;00m\u001b[38;5;250m \u001b[39m\u001b[38;5;28;01mimport\u001b[39;00m rescale_intensity, _integer_ranges, _integer_types\n\u001b[32m      5\u001b[39m \u001b[38;5;28;01mimport\u001b[39;00m\u001b[38;5;250m \u001b[39m\u001b[34;01mnarwhals\u001b[39;00m\u001b[34;01m.\u001b[39;00m\u001b[34;01mstable\u001b[39;00m\u001b[34;01m.\u001b[39;00m\u001b[34;01mv1\u001b[39;00m\u001b[38;5;250m \u001b[39m\u001b[38;5;28;01mas\u001b[39;00m\u001b[38;5;250m \u001b[39m\u001b[34;01mnw\u001b[39;00m\n\u001b[32m      6\u001b[39m \u001b[38;5;28;01mimport\u001b[39;00m\u001b[38;5;250m \u001b[39m\u001b[34;01mnumpy\u001b[39;00m\u001b[38;5;250m \u001b[39m\u001b[38;5;28;01mas\u001b[39;00m\u001b[38;5;250m \u001b[39m\u001b[34;01mnp\u001b[39;00m\n",
      "\u001b[36mFile \u001b[39m\u001b[32mc:\\Projetos TI\\Sprint 5\\vehicles_env\\Lib\\site-packages\\plotly\\express\\imshow_utils.py:10\u001b[39m\n\u001b[32m      5\u001b[39m \u001b[38;5;28;01mimport\u001b[39;00m\u001b[38;5;250m \u001b[39m\u001b[34;01mnumpy\u001b[39;00m\u001b[38;5;250m \u001b[39m\u001b[38;5;28;01mas\u001b[39;00m\u001b[38;5;250m \u001b[39m\u001b[34;01mnp\u001b[39;00m\n\u001b[32m      7\u001b[39m \u001b[38;5;28;01mfrom\u001b[39;00m\u001b[38;5;250m \u001b[39m\u001b[34;01mwarnings\u001b[39;00m\u001b[38;5;250m \u001b[39m\u001b[38;5;28;01mimport\u001b[39;00m warn\n\u001b[32m      9\u001b[39m _integer_types = (\n\u001b[32m---> \u001b[39m\u001b[32m10\u001b[39m     \u001b[43mnp\u001b[49m\u001b[43m.\u001b[49m\u001b[43mbyte\u001b[49m,\n\u001b[32m     11\u001b[39m     np.ubyte,  \u001b[38;5;66;03m# 8 bits\u001b[39;00m\n\u001b[32m     12\u001b[39m     np.short,\n\u001b[32m     13\u001b[39m     np.ushort,  \u001b[38;5;66;03m# 16 bits\u001b[39;00m\n\u001b[32m     14\u001b[39m     np.intc,\n\u001b[32m     15\u001b[39m     np.uintc,  \u001b[38;5;66;03m# 16 or 32 or 64 bits\u001b[39;00m\n\u001b[32m     16\u001b[39m     np.int_,\n\u001b[32m     17\u001b[39m     np.uint,  \u001b[38;5;66;03m# 32 or 64 bits\u001b[39;00m\n\u001b[32m     18\u001b[39m     np.longlong,\n\u001b[32m     19\u001b[39m     np.ulonglong,\n\u001b[32m     20\u001b[39m )  \u001b[38;5;66;03m# 64 bits\u001b[39;00m\n\u001b[32m     21\u001b[39m _integer_ranges = {t: (np.iinfo(t).min, np.iinfo(t).max) \u001b[38;5;28;01mfor\u001b[39;00m t \u001b[38;5;129;01min\u001b[39;00m _integer_types}\n\u001b[32m     22\u001b[39m dtype_range = {\n\u001b[32m     23\u001b[39m     np.bool_: (\u001b[38;5;28;01mFalse\u001b[39;00m, \u001b[38;5;28;01mTrue\u001b[39;00m),\n\u001b[32m     24\u001b[39m     np.float16: (-\u001b[32m1\u001b[39m, \u001b[32m1\u001b[39m),\n\u001b[32m     25\u001b[39m     np.float32: (-\u001b[32m1\u001b[39m, \u001b[32m1\u001b[39m),\n\u001b[32m     26\u001b[39m     np.float64: (-\u001b[32m1\u001b[39m, \u001b[32m1\u001b[39m),\n\u001b[32m     27\u001b[39m }\n",
      "\u001b[31mAttributeError\u001b[39m: module 'numpy' has no attribute 'byte'"
     ]
    }
   ],
   "source": [
    "import pandas as pd\n",
    "import plotly.express as px\n",
    "\n",
    "car_data = pd.read_csv('../vehicles_us.csv') # lendo os dados\n",
    "fig = px.histogram(car_data, x=\"odometer\") # criar um histograma\n",
    "fig.show() # exibindo\n"
   ]
  },
  {
   "cell_type": "code",
   "execution_count": null,
   "id": "e3c5a5fd",
   "metadata": {},
   "outputs": [],
   "source": [
    "import pandas as pd\n",
    "import plotly.express as px\n",
    "\n",
    "car_data = pd.read_csv('../vehicles_us.csv') # lendo os dados\n",
    "fig = px.scatter(car_data, x=\"odometer\", y=\"price\") # criar um gráfico de dispersão\n",
    "fig.show() # exibindo"
   ]
  }
 ],
 "metadata": {
  "kernelspec": {
   "display_name": "vehicles_env",
   "language": "python",
   "name": "python3"
  },
  "language_info": {
   "codemirror_mode": {
    "name": "ipython",
    "version": 3
   },
   "file_extension": ".py",
   "mimetype": "text/x-python",
   "name": "python",
   "nbconvert_exporter": "python",
   "pygments_lexer": "ipython3",
   "version": "3.13.5"
  }
 },
 "nbformat": 4,
 "nbformat_minor": 5
}
