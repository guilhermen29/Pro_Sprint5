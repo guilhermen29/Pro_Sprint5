{
 "cells": [
  {
   "cell_type": "code",
   "execution_count": null,
   "id": "e3c5a5fd",
   "metadata": {},
   "outputs": [],
   "source": [
    "import pandas as pd\n",
    "import plotly.express as px\n",
    "\n",
    "car_data = pd.read_csv('../vehicles_us.csv') # lendo os dados\n",
    "fig = px.histogram(car_data, x=\"odometer\") # criar um histograma\n",
    "fig.show() # exibindo"
   ]
  },
  {
   "cell_type": "code",
   "execution_count": null,
   "id": "f92cac8a",
   "metadata": {},
   "outputs": [],
   "source": [
    "import pandas as pd\n",
    "import plotly.express as px\n",
    "\n",
    "car_data = pd.read_csv('../vehicles_us.csv') # lendo os dados\n",
    "fig = px.scatter(car_data, x=\"odometer\", y=\"price\") # criar um gráfico de dispersão\n",
    "fig.show() # exibindo"
   ]
  }
 ],
 "metadata": {
  "kernelspec": {
   "display_name": "vehicles_env",
   "language": "python",
   "name": "python3"
  },
  "language_info": {
   "codemirror_mode": {
    "name": "ipython",
    "version": 3
   },
   "file_extension": ".py",
   "mimetype": "text/x-python",
   "name": "python",
   "nbconvert_exporter": "python",
   "pygments_lexer": "ipython3",
   "version": "3.13.5"
  }
 },
 "nbformat": 4,
 "nbformat_minor": 5
}
